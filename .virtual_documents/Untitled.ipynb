import pandas as pd 
import numpy as np  
from utils import clean_nba_data
from vos import generate_binned_df, get_vos, plot_vos

raw_data = pd.read_csv("nba_2018.csv")
raw_data.head()

df = clean_nba_data(raw_data)

binned_df, bin_width_map = generate_binned_df(df)


vos = get_vos(binned_df, bin_width_map)
print(vos)


plot_vos(binned_df, bin_width_map)















